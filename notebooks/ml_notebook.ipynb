{
 "cells": [
  {
   "cell_type": "code",
   "execution_count": 1,
   "id": "29594013",
   "metadata": {},
   "outputs": [],
   "source": [
    "import numpy as np\n",
    "import pandas as pd\n",
    "import matplotlib.pyplot as plt\n",
    "import sys\n",
    "import os\n",
    "\n",
    "from sklearn.compose import ColumnTransformer\n",
    "from sklearn.compose import make_column_transformer\n",
    "from sklearn.preprocessing import OneHotEncoder\n",
    "from sklearn.preprocessing import OrdinalEncoder\n",
    "from sklearn.preprocessing import StandardScaler\n",
    "\n",
    "from sklearn.model_selection import train_test_split\n",
    "from sklearn.linear_model import LinearRegression\n",
    "from sklearn.metrics import mean_squared_error"
   ]
  },
  {
   "cell_type": "code",
   "execution_count": 2,
   "id": "1d3d2799",
   "metadata": {},
   "outputs": [],
   "source": [
    "# allow for imports from parent folder\n",
    "module_path = os.path.abspath(os.path.join('..'))\n",
    "if module_path not in sys.path:\n",
    "    sys.path.append(module_path)\n",
    "\n",
    "from src.dataset import make_dataset\n",
    "from src.preprocessing import build_features\n",
    "from src.preprocessing import data_cleaning\n",
    "from src.preprocessing import preprocessing\n",
    "from src.models import train_model\n",
    "from src.visualizations import visualize"
   ]
  },
  {
   "cell_type": "code",
   "execution_count": null,
   "id": "f68389a5",
   "metadata": {},
   "outputs": [],
   "source": [
    "# set random state\n",
    "rand_state = 1"
   ]
  },
  {
   "cell_type": "markdown",
   "id": "25edb90c",
   "metadata": {},
   "source": [
    "# Load files into memory"
   ]
  },
  {
   "cell_type": "code",
   "execution_count": null,
   "id": "27018206",
   "metadata": {},
   "outputs": [],
   "source": [
    "counts_filename = 'data/count_data_species_raw_WIS_overlapping_fungi_bacteria_12773samples.tsv'\n",
    "metadata_filename = 'data/metadata_species_WIS_overlapping_fungi_bacteria_12773samples.tsv'"
   ]
  },
  {
   "cell_type": "code",
   "execution_count": null,
   "id": "79b3f11b",
   "metadata": {},
   "outputs": [],
   "source": [
    "counts = md.read_fungi_data(counts_filename)\n",
    "metadata = md.read_fungi_data(metadata_filename)\n",
    "\n",
    "metadata = metadata.replace('Not available', np.nan)\n",
    "\n",
    "#TODO Merge this later?\n",
    "#combined = pd.merge(metadata, counts, on=\"sampleid\", how=\"inner\")\n",
    "\n",
    "print('Metadata Shape:\\t' + str(metadata.shape))\n",
    "print('Counts Shape:\\t' + str(counts.shape))\n",
    "#print('Combined Shape:\\t' + str(combined.shape))"
   ]
  },
  {
   "cell_type": "code",
   "execution_count": null,
   "id": "0a31735b",
   "metadata": {},
   "outputs": [],
   "source": [
    "# # note 76% of samples dont have DTD\n",
    "# print(\"Days to Death - NA: \" + str(round(combined[\"days_to_death\"].isna().mean(), 3) * 100) + '%')\n",
    "\n",
    "# # 3036 data points to work with\n",
    "# print(\"Rows remaining: \" + str(combined[\"days_to_death\"].notna().sum()))\n",
    "\n",
    "# plt.boxplot(combined['days_to_death'], vert=False)\n",
    "# plt.show()"
   ]
  },
  {
   "cell_type": "code",
   "execution_count": null,
   "id": "8afece94",
   "metadata": {},
   "outputs": [],
   "source": [
    "metadata[\"pathologic_stage_label\"]"
   ]
  },
  {
   "cell_type": "code",
   "execution_count": null,
   "id": "44225838",
   "metadata": {},
   "outputs": [],
   "source": [
    "combined = pd.merge(metadata, counts, on=\"sampleid\", how=\"inner\")\n",
    "\n",
    "combined = dc.filter_metadata(combined)\n",
    "\n",
    "combined['pathologic_t_label'] = dc.reduce_stages(combined['pathologic_t_label'])\n",
    "combined['pathologic_n_label'] = dc.reduce_stages(combined['pathologic_n_label'])\n",
    "combined['pathologic_stage_label'] = dc.reduce_stages(combined['pathologic_stage_label'])\n",
    "\n",
    "combined.shape"
   ]
  },
  {
   "cell_type": "markdown",
   "id": "8054bc62",
   "metadata": {},
   "source": [
    "## Metadata Regression"
   ]
  },
  {
   "cell_type": "code",
   "execution_count": null,
   "id": "c514d2d5",
   "metadata": {},
   "outputs": [],
   "source": [
    "# TODO Create OrdinalEncoder for ordinal features in preprocessing.py"
   ]
  },
  {
   "cell_type": "code",
   "execution_count": null,
   "id": "8e17cace",
   "metadata": {},
   "outputs": [],
   "source": [
    "pp.preprocess_metadata(metadata).head()"
   ]
  },
  {
   "cell_type": "code",
   "execution_count": null,
   "id": "edb2a480",
   "metadata": {},
   "outputs": [],
   "source": []
  },
  {
   "cell_type": "markdown",
   "id": "357f54ad",
   "metadata": {},
   "source": [
    "## Regression Model"
   ]
  },
  {
   "cell_type": "code",
   "execution_count": null,
   "id": "5bb55ed9",
   "metadata": {},
   "outputs": [],
   "source": [
    "reg_data = combined[combined[\"days_to_death\"].notna()]"
   ]
  },
  {
   "cell_type": "code",
   "execution_count": null,
   "id": "baf245e0",
   "metadata": {},
   "outputs": [],
   "source": [
    "reg_data.shape"
   ]
  },
  {
   "cell_type": "code",
   "execution_count": null,
   "id": "b150b48a",
   "metadata": {},
   "outputs": [],
   "source": [
    "# separate X and Y and generate \n",
    "\n",
    "test_prop = 0.1\n",
    "reg_X = reg_data.drop(columns=metadata.columns)\n",
    "reg_Y = reg_data[\"days_to_death\"]\n",
    "reg_Xtrain, reg_Xtest, reg_Ytrain, reg_Ytest = train_test_split(reg_X, reg_Y, test_size=test_prop, random_state=rand_state)"
   ]
  },
  {
   "cell_type": "code",
   "execution_count": null,
   "id": "c11abaa0",
   "metadata": {},
   "outputs": [],
   "source": [
    "reg_model = LinearRegression()\n",
    "reg_model.fit(reg_Xtrain, reg_Ytrain)\n",
    "preds = reg_model.predict(reg_Xtest)\n",
    "preds = [x if x > 0 else 0 for x in preds] # Replace negative predictions\n",
    "scores = mean_squared_error(reg_Ytest, preds)\n",
    "scores"
   ]
  },
  {
   "cell_type": "code",
   "execution_count": null,
   "id": "5e5357d4",
   "metadata": {},
   "outputs": [],
   "source": [
    "(reg_Ytest - preds).head()"
   ]
  },
  {
   "cell_type": "markdown",
   "id": "5ddf88ac",
   "metadata": {},
   "source": [
    "## run.py test"
   ]
  },
  {
   "cell_type": "code",
   "execution_count": 3,
   "id": "9d863020",
   "metadata": {},
   "outputs": [],
   "source": [
    "args = [\"cs\"]"
   ]
  },
  {
   "cell_type": "code",
   "execution_count": 4,
   "id": "30c8844e",
   "metadata": {},
   "outputs": [
    {
     "data": {
      "text/plain": [
       "(12773, 41)"
      ]
     },
     "execution_count": 4,
     "metadata": {},
     "output_type": "execute_result"
    }
   ],
   "source": [
    "if \"test\" in args:\n",
    "    metadata_filename = \"data/test/test_metadata.tsv\"\n",
    "    counts_filename = \"data/test/test_fungi.tsv\"\n",
    "else:\n",
    "    counts_filename = 'data/count_data_species_raw_WIS_overlapping_fungi_bacteria_12773samples.tsv'\n",
    "    metadata_filename = 'data/metadata_species_WIS_overlapping_fungi_bacteria_12773samples.tsv'\n",
    "\n",
    "counts_filename = os.path.join(os.pardir, counts_filename)    \n",
    "metadata_filename = os.path.join(os.pardir, metadata_filename)   \n",
    "\n",
    "# load fungi counts and metadata into\n",
    "counts = make_dataset.read_fungi_data(counts_filename)\n",
    "raw_metadata = make_dataset.read_fungi_data(metadata_filename)\n",
    "metadata = raw_metadata.replace('Not available', np.nan)\n",
    "metadata.shape"
   ]
  },
  {
   "cell_type": "code",
   "execution_count": 5,
   "id": "b973030f",
   "metadata": {},
   "outputs": [
    {
     "data": {
      "text/plain": [
       "(8643, 41)"
      ]
     },
     "execution_count": 5,
     "metadata": {},
     "output_type": "execute_result"
    }
   ],
   "source": [
    "cancer_stage = \"pathologic_stage_label\"\n",
    "# clean cancer stage column s.t. only stages I, II, III, and IV remain\n",
    "metadata[cancer_stage] = data_cleaning.reduce_stages(metadata[cancer_stage])\n",
    "metadata = metadata[metadata.pathologic_stage_label.isin([\"Stage I\", \"Stage II\", \"Stage III\", \"Stage IV\"])]\n",
    "counts = counts.loc[metadata.index]\n",
    "\n",
    "Y = build_features.OHE_col(metadata[cancer_stage])\n",
    "metadata.shape"
   ]
  },
  {
   "cell_type": "code",
   "execution_count": 6,
   "id": "eed62ca7",
   "metadata": {},
   "outputs": [
    {
     "data": {
      "text/plain": [
       "(8643, 465)"
      ]
     },
     "execution_count": 6,
     "metadata": {},
     "output_type": "execute_result"
    }
   ],
   "source": [
    "X = metadata.drop(cancer_stage, axis=1)\n",
    "X = preprocessing.preprocess_metadata(X)\n",
    "X = pd.merge(X, counts, on=\"sampleid\", how=\"inner\")\n",
    "X.shape"
   ]
  },
  {
   "cell_type": "code",
   "execution_count": 9,
   "id": "2327f954",
   "metadata": {},
   "outputs": [
    {
     "name": "stdout",
     "output_type": "stream",
     "text": [
      "Starting Cancer Stage: Stage I\n",
      "Starting Cancer Stage: Stage II\n",
      "Starting Cancer Stage: Stage III\n",
      "Starting Cancer Stage: Stage IV\n"
     ]
    }
   ],
   "source": [
    "model, auroc_plt_data, aupr_plt_data = train_model.train_classify_cancer_stages(X, Y)"
   ]
  },
  {
   "cell_type": "code",
   "execution_count": 10,
   "id": "3a0cdfa7",
   "metadata": {},
   "outputs": [
    {
     "data": {
      "image/png": "[encoded data removed]",
      "text/plain": [
       "<Figure size 640x480 with 1 Axes>"
      ]
     },
     "metadata": {},
     "output_type": "display_data"
    }
   ],
   "source": [
    "visualize.init_visualization(Y)\n",
    "i = 1\n",
    "for stage in auroc_plt_data.keys():\n",
    "    visualize.plot_confidence_interval(i, auroc_plt_data[stage])\n",
    "    i += 1"
   ]
  },
  {
   "cell_type": "code",
   "execution_count": null,
   "id": "af0787f5",
   "metadata": {
    "scrolled": true
   },
   "outputs": [],
   "source": [
    "%run run.py test cs"
   ]
  },
  {
   "cell_type": "code",
   "execution_count": null,
   "id": "5c90fc23",
   "metadata": {},
   "outputs": [],
   "source": [
    "%run run.py test dtd"
   ]
  },
  {
   "cell_type": "code",
   "execution_count": null,
   "id": "fee4d01c",
   "metadata": {},
   "outputs": [],
   "source": []
  }
 ],
 "metadata": {
  "kernelspec": {
   "display_name": "Python 3 (ipykernel)",
   "language": "python",
   "name": "python3"
  },
  "language_info": {
   "codemirror_mode": {
    "name": "ipython",
    "version": 3
   },
   "file_extension": ".py",
   "mimetype": "text/x-python",
   "name": "python",
   "nbconvert_exporter": "python",
   "pygments_lexer": "ipython3",
   "version": "3.8.8"
  },
  "vscode": {
   "interpreter": {
    "hash": "81794d4967e6c3204c66dcd87b604927b115b27c00565d3d43f05ba2f3a2cb0d"
   }
  }
 },
 "nbformat": 4,
 "nbformat_minor": 5
}
