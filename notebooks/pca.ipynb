{
 "cells": [
  {
   "cell_type": "code",
   "execution_count": null,
   "metadata": {},
   "outputs": [],
   "source": [
    "%cd ..\n",
    "\n",
    "import pandas as pd\n",
    "import numpy as np\n",
    "import matplotlib.pyplot as plt\n",
    "import seaborn as sns\n",
    "\n",
    "from sklearn.preprocessing import StandardScaler\n",
    "from sklearn.decomposition import PCA\n",
    "\n",
    "from src.dataset import make_dataset\n",
    "from src.preprocessing import build_features\n",
    "from src.preprocessing import data_cleaning\n",
    "from src.models import train_model\n",
    "from src.visualizations import visualize\n",
    "import json"
   ]
  },
  {
   "cell_type": "code",
   "execution_count": null,
   "metadata": {},
   "outputs": [],
   "source": [
    "with open('config/default-cancer-stage.json', \"r\") as jsonfile:\n",
    "    config = json.load(jsonfile)"
   ]
  },
  {
   "cell_type": "code",
   "execution_count": null,
   "metadata": {},
   "outputs": [],
   "source": [
    "def create_pca(data, targets, target_column):\n",
    "    # Run PCA\n",
    "    ## Standardize data\n",
    "    scaler = StandardScaler()\n",
    "    scaled_data = scaler.fit_transform(data)\n",
    "    ## Run sklearn PCA on data\n",
    "    pca = PCA(n_components=2)\n",
    "    pca_data = pca.fit_transform(scaled_data)\n",
    "    # Convert ndarray to DataFrame, Add targets back in\n",
    "    pca_data = pd.DataFrame(pca_data, index=data.index)\n",
    "    pca_data = pd.merge(pca_data, targets, on=\"sampleid\", how=\"inner\")\n",
    "\n",
    "    # Plot PCA\n",
    "    ## Create scatterplot\n",
    "\n",
    "    sns.scatterplot(x=0, y=1, data=pca_data,\n",
    "                    hue=target_column,\n",
    "                    alpha=0.3)\n",
    "    plt.title(\"PCoA\")\n",
    "    plt.legend(bbox_to_anchor=(1.01, 1),\n",
    "               loc=2,\n",
    "               borderaxespad=0.,\n",
    "               title=target_column)\n",
    "    ## Format PC labels to include explained variance\n",
    "    plt.xlabel(f'PC1 ({round(pca.explained_variance_[0], 2)}%)')\n",
    "    plt.ylabel(f'PC2 ({round(pca.explained_variance_[1], 2)}%)')\n",
    "    ## Save fig\n",
    "    plt.savefig(\"figures\\pca\\PCA_\" + target_column + \".png\", bbox_inches='tight')\n",
    "\n",
    "    # Return loading scores\n",
    "    ## Get loading scores from both PC's\n",
    "    pc1_loading_scores = pd.Series(pca.components_[0], index=data.columns)\n",
    "    pc2_loading_scores = pd.Series(pca.components_[1], index=data.columns)\n",
    "    ## Sort loading scores by magnitude\n",
    "    pc1_loading_scores = pc1_loading_scores.abs().sort_values(ascending=False)\n",
    "    pc2_loading_scores = pc2_loading_scores.abs().sort_values(ascending=False)\n",
    "    ## Return extracted series\n",
    "    return pc1_loading_scores, pc2_loading_scores"
   ]
  },
  {
   "cell_type": "code",
   "execution_count": null,
   "metadata": {},
   "outputs": [],
   "source": [
    "def pca(target_column):\n",
    "    counts_filename = 'data/count_data_species_raw_WIS_overlapping_fungi_bacteria_12773samples.tsv'\n",
    "    metadata_filename = 'data/metadata_species_WIS_overlapping_fungi_bacteria_12773samples.tsv'\n",
    "    \n",
    "    # load fungi counts and metadata into\n",
    "    counts = make_dataset.read_data_file(counts_filename)\n",
    "    raw_metadata = make_dataset.read_data_file(metadata_filename)\n",
    "\n",
    "    metadata = raw_metadata.replace('Not available', np.nan)\n",
    "    for col in ['pathologic_t_label', 'pathologic_n_label', 'pathologic_stage_label']:\n",
    "        metadata[col] = data_cleaning.reduce_stages(metadata[col])\n",
    "\n",
    "    stages = ['Stage I', 'Stage II', 'Stage III', 'Stage IV']\n",
    "\n",
    "    # filter out missing stage data\n",
    "    metadata = metadata[metadata.pathologic_stage_label.isin([\"Stage I\", \"Stage II\", \"Stage III\", \"Stage IV\"])]\n",
    "\n",
    "    # filter to one experimental strategy\n",
    "    metadata = metadata[metadata.experimental_strategy == 'WGS']\n",
    "\n",
    "    # order by cancer stage\n",
    "    metadata['pathologic_stage_label'] = pd.Categorical(metadata['pathologic_stage_label'], categories=stages)\n",
    "    metadata = metadata.sort_values(by='pathologic_stage_label')\n",
    "\n",
    "    # remove target column from pca (keep for coloring plot later)\n",
    "    targets = metadata[[target_column]]\n",
    "    metadata.drop(target_column, axis=1)\n",
    "\n",
    "    # preprocess metadata\n",
    "    metadata = build_features.preprocess_metadata(config, metadata)\n",
    "    metadata = metadata.iloc[:, :-7]\n",
    "\n",
    "    # merge counts data to metadata (drop any counts missing from index in metadata)\n",
    "    data = pd.merge(metadata, counts, on=\"sampleid\", how=\"left\")\n",
    "\n",
    "    pca = create_pca(metadata, targets, target_column)\n",
    "\n",
    "    print('Target Column: ' + target_column)\n",
    "    print()\n",
    "    print(\"----  PC1 Loading Scores:  ----\")\n",
    "    print(pca[0][:5])\n",
    "    print()\n",
    "    print(\"----  PC2 Loading Scores:  ----\")\n",
    "    print(pca[0][:5])"
   ]
  },
  {
   "cell_type": "code",
   "execution_count": null,
   "metadata": {},
   "outputs": [],
   "source": [
    "pca('reference_genome')"
   ]
  }
 ],
 "metadata": {
  "kernelspec": {
   "display_name": "Python 3",
   "language": "python",
   "name": "python3"
  },
  "language_info": {
   "codemirror_mode": {
    "name": "ipython",
    "version": 3
   },
   "file_extension": ".py",
   "mimetype": "text/x-python",
   "name": "python",
   "nbconvert_exporter": "python",
   "pygments_lexer": "ipython3",
   "version": "3.9.0"
  },
  "orig_nbformat": 4
 },
 "nbformat": 4,
 "nbformat_minor": 2
}
