{
 "cells": [
  {
   "cell_type": "code",
   "execution_count": 1,
   "metadata": {},
   "outputs": [],
   "source": [
    "# use this to move working directory 1 up\n",
    "%cd ..\n",
    "\n",
    "import run\n",
    "from src.dataset import make_dataset\n",
    "from src.preprocessing import build_features\n",
    "from src.preprocessing import data_cleaning\n",
    "from src.preprocessing import preprocessing\n",
    "from src.models import train_model\n",
    "from src.visualizations import visualize"
   ]
  },
  {
   "cell_type": "code",
   "execution_count": null,
   "metadata": {},
   "outputs": [],
   "source": [
    "# make sure dir is correct before running\n",
    "# use 1st cell in this section (run.py test) to change\n",
    "%run run.py \"default-cancer-stage-test.json\""
   ]
  },
  {
   "cell_type": "code",
   "execution_count": 2,
   "metadata": {},
   "outputs": [
    {
     "name": "stdout",
     "output_type": "stream",
     "text": [
      "Training Model Now . . .\n"
     ]
    },
    {
     "name": "stderr",
     "output_type": "stream",
     "text": [
      "C:\\Users\\magma\\anaconda3\\lib\\site-packages\\sklearn\\linear_model\\_coordinate_descent.py:631: ConvergenceWarning: Objective did not converge. You might want to increase the number of iterations, check the scale of the features or consider increasing regularisation. Duality gap: 6.698e+07, tolerance: 3.964e+04\n",
      "  model = cd_fast.enet_coordinate_descent(\n",
      "C:\\Users\\magma\\anaconda3\\lib\\site-packages\\sklearn\\linear_model\\_coordinate_descent.py:631: ConvergenceWarning: Objective did not converge. You might want to increase the number of iterations, check the scale of the features or consider increasing regularisation. Duality gap: 5.965e+07, tolerance: 3.307e+04\n",
      "  model = cd_fast.enet_coordinate_descent(\n",
      "C:\\Users\\magma\\anaconda3\\lib\\site-packages\\sklearn\\linear_model\\_coordinate_descent.py:631: ConvergenceWarning: Objective did not converge. You might want to increase the number of iterations, check the scale of the features or consider increasing regularisation. Duality gap: 6.507e+07, tolerance: 3.717e+04\n",
      "  model = cd_fast.enet_coordinate_descent(\n",
      "C:\\Users\\magma\\anaconda3\\lib\\site-packages\\sklearn\\linear_model\\_coordinate_descent.py:631: ConvergenceWarning: Objective did not converge. You might want to increase the number of iterations, check the scale of the features or consider increasing regularisation. Duality gap: 6.753e+07, tolerance: 3.950e+04\n",
      "  model = cd_fast.enet_coordinate_descent(\n",
      "C:\\Users\\magma\\anaconda3\\lib\\site-packages\\sklearn\\linear_model\\_coordinate_descent.py:631: ConvergenceWarning: Objective did not converge. You might want to increase the number of iterations, check the scale of the features or consider increasing regularisation. Duality gap: 5.934e+07, tolerance: 3.473e+04\n",
      "  model = cd_fast.enet_coordinate_descent(\n",
      "C:\\Users\\magma\\anaconda3\\lib\\site-packages\\sklearn\\linear_model\\_coordinate_descent.py:631: ConvergenceWarning: Objective did not converge. You might want to increase the number of iterations, check the scale of the features or consider increasing regularisation. Duality gap: 6.810e+07, tolerance: 3.712e+04\n",
      "  model = cd_fast.enet_coordinate_descent(\n",
      "C:\\Users\\magma\\anaconda3\\lib\\site-packages\\sklearn\\linear_model\\_coordinate_descent.py:631: ConvergenceWarning: Objective did not converge. You might want to increase the number of iterations, check the scale of the features or consider increasing regularisation. Duality gap: 7.293e+07, tolerance: 3.964e+04\n",
      "  model = cd_fast.enet_coordinate_descent(\n",
      "C:\\Users\\magma\\anaconda3\\lib\\site-packages\\sklearn\\linear_model\\_coordinate_descent.py:631: ConvergenceWarning: Objective did not converge. You might want to increase the number of iterations, check the scale of the features or consider increasing regularisation. Duality gap: 7.081e+07, tolerance: 3.603e+04\n",
      "  model = cd_fast.enet_coordinate_descent(\n",
      "C:\\Users\\magma\\anaconda3\\lib\\site-packages\\sklearn\\linear_model\\_coordinate_descent.py:631: ConvergenceWarning: Objective did not converge. You might want to increase the number of iterations, check the scale of the features or consider increasing regularisation. Duality gap: 7.147e+07, tolerance: 3.974e+04\n",
      "  model = cd_fast.enet_coordinate_descent(\n",
      "C:\\Users\\magma\\anaconda3\\lib\\site-packages\\sklearn\\linear_model\\_coordinate_descent.py:631: ConvergenceWarning: Objective did not converge. You might want to increase the number of iterations, check the scale of the features or consider increasing regularisation. Duality gap: 6.005e+07, tolerance: 3.425e+04\n",
      "  model = cd_fast.enet_coordinate_descent(\n"
     ]
    }
   ],
   "source": [
    "# make sure dir is correct before running\n",
    "# use 1st cell in this section (run.py test) to change\n",
    "%run run.py \"default-days-to-death-test.json\""
   ]
  },
  {
   "cell_type": "code",
   "execution_count": null,
   "metadata": {},
   "outputs": [],
   "source": []
  }
 ],
 "metadata": {
  "kernelspec": {
   "display_name": "Python 3",
   "language": "python",
   "name": "python3"
  },
  "language_info": {
   "codemirror_mode": {
    "name": "ipython",
    "version": 3
   },
   "file_extension": ".py",
   "mimetype": "text/x-python",
   "name": "python",
   "nbconvert_exporter": "python",
   "pygments_lexer": "ipython3",
   "version": "3.8.16"
  }
 },
 "nbformat": 4,
 "nbformat_minor": 4
}
