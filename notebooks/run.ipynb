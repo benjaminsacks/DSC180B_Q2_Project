{
 "cells": [
  {
   "cell_type": "code",
   "execution_count": 1,
   "metadata": {},
   "outputs": [
    {
     "name": "stdout",
     "output_type": "stream",
     "text": [
      "C:\\Users\\magma\\OneDrive\\Documents\\DSC180B_Q2_Project\n"
     ]
    }
   ],
   "source": [
    "# use this to move working directory 1 up\n",
    "%cd ..\n",
    "\n",
    "import run\n",
    "from src.dataset import make_dataset\n",
    "from src.preprocessing import build_features\n",
    "from src.preprocessing import data_cleaning\n",
    "from src.models import train_model\n",
    "from src.visualizations import visualize"
   ]
  },
  {
   "cell_type": "code",
   "execution_count": 3,
   "metadata": {},
   "outputs": [
    {
     "name": "stdout",
     "output_type": "stream",
     "text": [
      "Training Model Now . . .\n",
      "Starting Stage: Stage I\n",
      "Starting Stage: Stage II\n",
      "Starting Stage: Stage III\n",
      "Starting Stage: Stage IV\n",
      "Task Completed.\n"
     ]
    }
   ],
   "source": [
    "# make sure dir is correct before running\n",
    "# use 1st cell in this section (run.py test) to change\n",
    "%run run.py \"default-cancer-stage.json\""
   ]
  },
  {
   "cell_type": "code",
   "execution_count": 2,
   "metadata": {},
   "outputs": [
    {
     "name": "stdout",
     "output_type": "stream",
     "text": [
      "Training Model Now . . .\n"
     ]
    },
    {
     "name": "stderr",
     "output_type": "stream",
     "text": [
      "C:\\Users\\magma\\anaconda3\\lib\\site-packages\\sklearn\\linear_model\\_coordinate_descent.py:631: ConvergenceWarning: Objective did not converge. You might want to increase the number of iterations, check the scale of the features or consider increasing regularisation. Duality gap: 8.172e+08, tolerance: 2.484e+05\n",
      "  model = cd_fast.enet_coordinate_descent(\n",
      "C:\\Users\\magma\\anaconda3\\lib\\site-packages\\sklearn\\linear_model\\_coordinate_descent.py:631: ConvergenceWarning: Objective did not converge. You might want to increase the number of iterations, check the scale of the features or consider increasing regularisation. Duality gap: 8.445e+08, tolerance: 2.516e+05\n",
      "  model = cd_fast.enet_coordinate_descent(\n",
      "C:\\Users\\magma\\anaconda3\\lib\\site-packages\\sklearn\\linear_model\\_coordinate_descent.py:631: ConvergenceWarning: Objective did not converge. You might want to increase the number of iterations, check the scale of the features or consider increasing regularisation. Duality gap: 8.342e+08, tolerance: 2.500e+05\n",
      "  model = cd_fast.enet_coordinate_descent(\n",
      "C:\\Users\\magma\\anaconda3\\lib\\site-packages\\sklearn\\linear_model\\_coordinate_descent.py:631: ConvergenceWarning: Objective did not converge. You might want to increase the number of iterations, check the scale of the features or consider increasing regularisation. Duality gap: 8.574e+08, tolerance: 2.594e+05\n",
      "  model = cd_fast.enet_coordinate_descent(\n",
      "C:\\Users\\magma\\anaconda3\\lib\\site-packages\\sklearn\\linear_model\\_coordinate_descent.py:631: ConvergenceWarning: Objective did not converge. You might want to increase the number of iterations, check the scale of the features or consider increasing regularisation. Duality gap: 8.686e+08, tolerance: 2.595e+05\n",
      "  model = cd_fast.enet_coordinate_descent(\n",
      "C:\\Users\\magma\\anaconda3\\lib\\site-packages\\sklearn\\linear_model\\_coordinate_descent.py:631: ConvergenceWarning: Objective did not converge. You might want to increase the number of iterations, check the scale of the features or consider increasing regularisation. Duality gap: 8.528e+08, tolerance: 2.489e+05\n",
      "  model = cd_fast.enet_coordinate_descent(\n",
      "C:\\Users\\magma\\anaconda3\\lib\\site-packages\\sklearn\\linear_model\\_coordinate_descent.py:631: ConvergenceWarning: Objective did not converge. You might want to increase the number of iterations, check the scale of the features or consider increasing regularisation. Duality gap: 8.562e+08, tolerance: 2.565e+05\n",
      "  model = cd_fast.enet_coordinate_descent(\n",
      "C:\\Users\\magma\\anaconda3\\lib\\site-packages\\sklearn\\linear_model\\_coordinate_descent.py:631: ConvergenceWarning: Objective did not converge. You might want to increase the number of iterations, check the scale of the features or consider increasing regularisation. Duality gap: 8.634e+08, tolerance: 2.586e+05\n",
      "  model = cd_fast.enet_coordinate_descent(\n",
      "C:\\Users\\magma\\anaconda3\\lib\\site-packages\\sklearn\\linear_model\\_coordinate_descent.py:631: ConvergenceWarning: Objective did not converge. You might want to increase the number of iterations, check the scale of the features or consider increasing regularisation. Duality gap: 8.773e+08, tolerance: 2.634e+05\n",
      "  model = cd_fast.enet_coordinate_descent(\n"
     ]
    },
    {
     "name": "stdout",
     "output_type": "stream",
     "text": [
      "Task Completed.\n"
     ]
    },
    {
     "name": "stderr",
     "output_type": "stream",
     "text": [
      "C:\\Users\\magma\\anaconda3\\lib\\site-packages\\sklearn\\linear_model\\_coordinate_descent.py:631: ConvergenceWarning: Objective did not converge. You might want to increase the number of iterations, check the scale of the features or consider increasing regularisation. Duality gap: 8.720e+08, tolerance: 2.566e+05\n",
      "  model = cd_fast.enet_coordinate_descent(\n"
     ]
    }
   ],
   "source": [
    "# make sure dir is correct before running\n",
    "# use 1st cell in this section (run.py test) to change\n",
    "%run run.py \"default-days-to-death.json\""
   ]
  },
  {
   "cell_type": "code",
   "execution_count": null,
   "metadata": {},
   "outputs": [],
   "source": []
  }
 ],
 "metadata": {
  "kernelspec": {
   "display_name": "Python 3 (ipykernel)",
   "language": "python",
   "name": "python3"
  },
  "language_info": {
   "codemirror_mode": {
    "name": "ipython",
    "version": 3
   },
   "file_extension": ".py",
   "mimetype": "text/x-python",
   "name": "python",
   "nbconvert_exporter": "python",
   "pygments_lexer": "ipython3",
   "version": "3.8.16"
  }
 },
 "nbformat": 4,
 "nbformat_minor": 4
}
