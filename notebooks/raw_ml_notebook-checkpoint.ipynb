{
 "cells": [
  {
   "cell_type": "code",
   "execution_count": 1,
   "id": "29594013",
   "metadata": {},
   "outputs": [],
   "source": [
    "import numpy as np\n",
    "import pandas as pd\n",
    "import matplotlib.pyplot as plt\n",
    "import sys\n",
    "import os\n",
    "\n",
    "from sklearn.compose import ColumnTransformer\n",
    "from sklearn.compose import make_column_transformer\n",
    "from sklearn.preprocessing import OneHotEncoder\n",
    "from sklearn.preprocessing import OrdinalEncoder\n",
    "from sklearn.preprocessing import StandardScaler\n",
    "\n",
    "from sklearn.model_selection import train_test_split\n",
    "from sklearn.linear_model import LinearRegression\n",
    "from sklearn.metrics import mean_squared_error\n",
    "import textwrap"
   ]
  },
  {
   "cell_type": "code",
   "execution_count": 2,
   "id": "1d3d2799",
   "metadata": {},
   "outputs": [],
   "source": [
    "# allow for imports from parent folder\n",
    "module_path = os.path.abspath(os.path.join('..'))\n",
    "if module_path not in sys.path:\n",
    "    sys.path.append(module_path)\n",
    "\n",
    "from src.dataset import make_dataset\n",
    "from src.preprocessing import build_features\n",
    "from src.preprocessing import data_cleaning\n",
    "from src.preprocessing import preprocessing\n",
    "from src.models import train_model\n",
    "from src.visualizations import visualize"
   ]
  },
  {
   "cell_type": "code",
   "execution_count": 3,
   "id": "f68389a5",
   "metadata": {},
   "outputs": [],
   "source": [
    "# set random state\n",
    "rand_state = 1"
   ]
  },
  {
   "cell_type": "markdown",
   "id": "25edb90c",
   "metadata": {},
   "source": [
    "# Load files into memory"
   ]
  },
  {
   "cell_type": "code",
   "execution_count": null,
   "id": "27018206",
   "metadata": {},
   "outputs": [],
   "source": [
    "counts_filename = 'data/count_data_species_raw_WIS_overlapping_fungi_bacteria_12773samples.tsv'\n",
    "metadata_filename = 'data/metadata_species_WIS_overlapping_fungi_bacteria_12773samples.tsv'"
   ]
  },
  {
   "cell_type": "code",
   "execution_count": null,
   "id": "79b3f11b",
   "metadata": {},
   "outputs": [],
   "source": [
    "counts = md.read_fungi_data(counts_filename)\n",
    "metadata = md.read_fungi_data(metadata_filename)\n",
    "\n",
    "metadata = metadata.replace('Not available', np.nan)\n",
    "\n",
    "#TODO Merge this later?\n",
    "#combined = pd.merge(metadata, counts, on=\"sampleid\", how=\"inner\")\n",
    "\n",
    "print('Metadata Shape:\\t' + str(metadata.shape))\n",
    "print('Counts Shape:\\t' + str(counts.shape))\n",
    "#print('Combined Shape:\\t' + str(combined.shape))"
   ]
  },
  {
   "cell_type": "code",
   "execution_count": null,
   "id": "0a31735b",
   "metadata": {},
   "outputs": [],
   "source": [
    "# # note 76% of samples dont have DTD\n",
    "# print(\"Days to Death - NA: \" + str(round(combined[\"days_to_death\"].isna().mean(), 3) * 100) + '%')\n",
    "\n",
    "# # 3036 data points to work with\n",
    "# print(\"Rows remaining: \" + str(combined[\"days_to_death\"].notna().sum()))\n",
    "\n",
    "# plt.boxplot(combined['days_to_death'], vert=False)\n",
    "# plt.show()"
   ]
  },
  {
   "cell_type": "code",
   "execution_count": null,
   "id": "8afece94",
   "metadata": {},
   "outputs": [],
   "source": [
    "metadata[\"pathologic_stage_label\"]"
   ]
  },
  {
   "cell_type": "code",
   "execution_count": null,
   "id": "44225838",
   "metadata": {},
   "outputs": [],
   "source": [
    "combined = pd.merge(metadata, counts, on=\"sampleid\", how=\"inner\")\n",
    "\n",
    "combined = dc.filter_metadata(combined)\n",
    "\n",
    "combined['pathologic_t_label'] = dc.reduce_stages(combined['pathologic_t_label'])\n",
    "combined['pathologic_n_label'] = dc.reduce_stages(combined['pathologic_n_label'])\n",
    "combined['pathologic_stage_label'] = dc.reduce_stages(combined['pathologic_stage_label'])\n",
    "\n",
    "combined.shape"
   ]
  },
  {
   "cell_type": "markdown",
   "id": "8054bc62",
   "metadata": {},
   "source": [
    "## Metadata Regression"
   ]
  },
  {
   "cell_type": "code",
   "execution_count": null,
   "id": "c514d2d5",
   "metadata": {},
   "outputs": [],
   "source": [
    "# TODO Create OrdinalEncoder for ordinal features in preprocessing.py"
   ]
  },
  {
   "cell_type": "code",
   "execution_count": null,
   "id": "8e17cace",
   "metadata": {},
   "outputs": [],
   "source": [
    "pp.preprocess_metadata(metadata).head()"
   ]
  },
  {
   "cell_type": "code",
   "execution_count": null,
   "id": "edb2a480",
   "metadata": {},
   "outputs": [],
   "source": []
  },
  {
   "cell_type": "markdown",
   "id": "357f54ad",
   "metadata": {},
   "source": [
    "## Regression Model"
   ]
  },
  {
   "cell_type": "code",
   "execution_count": null,
   "id": "5bb55ed9",
   "metadata": {},
   "outputs": [],
   "source": [
    "reg_data = combined[combined[\"days_to_death\"].notna()]"
   ]
  },
  {
   "cell_type": "code",
   "execution_count": null,
   "id": "baf245e0",
   "metadata": {},
   "outputs": [],
   "source": [
    "reg_data.shape"
   ]
  },
  {
   "cell_type": "code",
   "execution_count": null,
   "id": "b150b48a",
   "metadata": {},
   "outputs": [],
   "source": [
    "# separate X and Y and generate \n",
    "\n",
    "test_prop = 0.1\n",
    "reg_X = reg_data.drop(columns=metadata.columns)\n",
    "reg_Y = reg_data[\"days_to_death\"]\n",
    "reg_Xtrain, reg_Xtest, reg_Ytrain, reg_Ytest = train_test_split(reg_X, reg_Y, test_size=test_prop, random_state=rand_state)"
   ]
  },
  {
   "cell_type": "code",
   "execution_count": null,
   "id": "c11abaa0",
   "metadata": {},
   "outputs": [],
   "source": [
    "reg_model = LinearRegression()\n",
    "reg_model.fit(reg_Xtrain, reg_Ytrain)\n",
    "preds = reg_model.predict(reg_Xtest)\n",
    "preds = [x if x > 0 else 0 for x in preds] # Replace negative predictions\n",
    "scores = mean_squared_error(reg_Ytest, preds)\n",
    "scores"
   ]
  },
  {
   "cell_type": "code",
   "execution_count": null,
   "id": "5e5357d4",
   "metadata": {},
   "outputs": [],
   "source": [
    "(reg_Ytest - preds).head()"
   ]
  },
  {
   "cell_type": "markdown",
   "id": "5ddf88ac",
   "metadata": {},
   "source": [
    "## run.py test"
   ]
  },
  {
   "cell_type": "code",
   "execution_count": null,
   "id": "49262d26",
   "metadata": {},
   "outputs": [],
   "source": [
    "# use this to move working directory 1 up\n",
    "%cd .."
   ]
  },
  {
   "cell_type": "code",
   "execution_count": 4,
   "id": "9d863020",
   "metadata": {},
   "outputs": [],
   "source": [
    "args = [\"cs\"]"
   ]
  },
  {
   "cell_type": "code",
   "execution_count": 5,
   "id": "30c8844e",
   "metadata": {},
   "outputs": [
    {
     "data": {
      "text/plain": [
       "(12773, 41)"
      ]
     },
     "execution_count": 5,
     "metadata": {},
     "output_type": "execute_result"
    }
   ],
   "source": [
    "if \"test\" in args:\n",
    "    metadata_filename = \"data/test/test_metadata.tsv\"\n",
    "    counts_filename = \"data/test/test_fungi.tsv\"\n",
    "else:\n",
    "    counts_filename = 'data/count_data_species_raw_WIS_overlapping_fungi_bacteria_12773samples.tsv'\n",
    "    metadata_filename = 'data/metadata_species_WIS_overlapping_fungi_bacteria_12773samples.tsv'\n",
    "\n",
    "counts_filename = os.path.join(os.pardir, counts_filename)    \n",
    "metadata_filename = os.path.join(os.pardir, metadata_filename)   \n",
    "\n",
    "# load fungi counts and metadata into\n",
    "counts = make_dataset.read_fungi_data(counts_filename)\n",
    "raw_metadata = make_dataset.read_fungi_data(metadata_filename)\n",
    "metadata = raw_metadata.replace('Not available', np.nan)\n",
    "metadata.shape"
   ]
  },
  {
   "cell_type": "code",
   "execution_count": 6,
   "id": "b973030f",
   "metadata": {},
   "outputs": [
    {
     "data": {
      "text/plain": [
       "(8643, 41)"
      ]
     },
     "execution_count": 6,
     "metadata": {},
     "output_type": "execute_result"
    }
   ],
   "source": [
    "cancer_stage = \"pathologic_stage_label\"\n",
    "# clean cancer stage column s.t. only stages I, II, III, and IV remain\n",
    "metadata[cancer_stage] = data_cleaning.reduce_stages(metadata[cancer_stage])\n",
    "metadata = metadata[metadata.pathologic_stage_label.isin([\"Stage I\", \"Stage II\", \"Stage III\", \"Stage IV\"])]\n",
    "counts = counts.loc[metadata.index]\n",
    "\n",
    "Y = build_features.OHE_col(metadata[cancer_stage])\n",
    "metadata.shape"
   ]
  },
  {
   "cell_type": "code",
   "execution_count": 7,
   "id": "eed62ca7",
   "metadata": {},
   "outputs": [
    {
     "data": {
      "text/plain": [
       "(8643, 425)"
      ]
     },
     "execution_count": 7,
     "metadata": {},
     "output_type": "execute_result"
    }
   ],
   "source": [
    "X = metadata.drop(cancer_stage, axis=1)\n",
    "X = preprocessing.preprocess_metadata(X)\n",
    "X = pd.merge(X, counts, on=\"sampleid\", how=\"inner\")\n",
    "X.shape"
   ]
  },
  {
   "cell_type": "code",
   "execution_count": 8,
   "id": "db93ea27",
   "metadata": {},
   "outputs": [
    {
     "name": "stdout",
     "output_type": "stream",
     "text": [
      "Starting Cancer Stage: Stage I\n",
      "Starting Cancer Stage: Stage II\n",
      "Starting Cancer Stage: Stage III\n",
      "Starting Cancer Stage: Stage IV\n"
     ]
    }
   ],
   "source": [
    "models, auroc_plt_data, aupr_plt_data = train_model.train_classify_cancer_stages(X, Y)"
   ]
  },
  {
   "cell_type": "code",
   "execution_count": 9,
   "id": "df5c8a5b",
   "metadata": {},
   "outputs": [],
   "source": [
    "featImp = []\n",
    "for model in models:\n",
    "    series = pd.Series(model.feature_importances_, index=X.columns).sort_values(ascending=False)\n",
    "    featImp.append(series)"
   ]
  },
  {
   "cell_type": "code",
   "execution_count": null,
   "id": "f2d140d1",
   "metadata": {
    "scrolled": true
   },
   "outputs": [],
   "source": [
    "font = {'family' : 'DejaVu Sans',\n",
    "        'weight' : 'bold',\n",
    "        'size'   : 10}\n",
    "\n",
    "plt.rc('font', **font)\n",
    "\n",
    "data = featImp[1].nlargest(20).sort_values(ascending=True)\n",
    "\n",
    "fig = plt.figure().set_figwidth(3)\n",
    "plt.barh(data.index, data)\n",
    "title = plt.title('Stage II Feature Importance')\n",
    "\n",
    "plt.show()"
   ]
  },
  {
   "cell_type": "code",
   "execution_count": null,
   "id": "24bbeef2",
   "metadata": {},
   "outputs": [],
   "source": [
    "featImp[0].head(20)"
   ]
  },
  {
   "cell_type": "code",
   "execution_count": null,
   "id": "0b342a90",
   "metadata": {},
   "outputs": [],
   "source": [
    "featImp[1].head(20)"
   ]
  },
  {
   "cell_type": "code",
   "execution_count": null,
   "id": "c71f5b64",
   "metadata": {},
   "outputs": [],
   "source": [
    "featImp[2].head(20)"
   ]
  },
  {
   "cell_type": "code",
   "execution_count": null,
   "id": "609a94c6",
   "metadata": {},
   "outputs": [],
   "source": [
    "featImp[3].head(20)"
   ]
  },
  {
   "cell_type": "code",
   "execution_count": 13,
   "id": "a3e0868b",
   "metadata": {},
   "outputs": [
    {
     "data": {
      "image/png": "[encoded data removed]",
      "text/plain": [
       "<Figure size 640x480 with 1 Axes>"
      ]
     },
     "metadata": {},
     "output_type": "display_data"
    }
   ],
   "source": [
    "font = {'family' : 'DejaVu Sans',\n",
    "        'weight' : 'bold',\n",
    "        'size'   : 15}\n",
    "\n",
    "plt.rc('font', **font)\n",
    "\n",
    "scores = auroc_plt_data\n",
    "\n",
    "data = list(scores.values())\n",
    "\n",
    "fig = plt.figure()\n",
    "ax = fig.add_axes([0, 0, 1, 1])\n",
    "ax.boxplot(data)\n",
    "ax.set_xticklabels(list(scores.keys()))\n",
    "title = plt.title('Cancer Stage AUROC')\n",
    "plt.show()"
   ]
  },
  {
   "cell_type": "code",
   "execution_count": null,
   "id": "af0787f5",
   "metadata": {
    "scrolled": true
   },
   "outputs": [],
   "source": [
    "# make sure dir is correct before running\n",
    "# use 1st cell in this section (run.py test) to change\n",
    "%run run.py test cs"
   ]
  },
  {
   "cell_type": "code",
   "execution_count": null,
   "id": "5c90fc23",
   "metadata": {},
   "outputs": [],
   "source": [
    "%run run.py test dtd"
   ]
  },
  {
   "cell_type": "code",
   "execution_count": 35,
   "id": "fee4d01c",
   "metadata": {},
   "outputs": [
    {
     "data": {
      "text/html": [
       "<div>\n",
       "<style scoped>\n",
       "    .dataframe tbody tr th:only-of-type {\n",
       "        vertical-align: middle;\n",
       "    }\n",
       "\n",
       "    .dataframe tbody tr th {\n",
       "        vertical-align: top;\n",
       "    }\n",
       "\n",
       "    .dataframe thead th {\n",
       "        text-align: right;\n",
       "    }\n",
       "</style>\n",
       "<table border=\"1\" class=\"dataframe\">\n",
       "  <thead>\n",
       "    <tr style=\"text-align: right;\">\n",
       "      <th></th>\n",
       "      <th>pathologic_stage_label</th>\n",
       "      <th>pathologic_n_label</th>\n",
       "    </tr>\n",
       "    <tr>\n",
       "      <th>sampleid</th>\n",
       "      <th></th>\n",
       "      <th></th>\n",
       "    </tr>\n",
       "  </thead>\n",
       "  <tbody>\n",
       "    <tr>\n",
       "      <th>13722.58cfa82de4b0c9d6adf6a4c2</th>\n",
       "      <td>Stage II</td>\n",
       "      <td>N0</td>\n",
       "    </tr>\n",
       "    <tr>\n",
       "      <th>13722.58cfa82de4b0c9d6adf6a4ce</th>\n",
       "      <td>Stage III</td>\n",
       "      <td>N2</td>\n",
       "    </tr>\n",
       "    <tr>\n",
       "      <th>13722.58cfa82de4b0c9d6adf6a46d</th>\n",
       "      <td>Stage II</td>\n",
       "      <td>N1</td>\n",
       "    </tr>\n",
       "    <tr>\n",
       "      <th>13722.58cfa82de4b0c9d6adf6a52c</th>\n",
       "      <td>Stage III</td>\n",
       "      <td>N2a</td>\n",
       "    </tr>\n",
       "    <tr>\n",
       "      <th>13722.58cfa82de4b0c9d6adf6a59b</th>\n",
       "      <td>Stage II</td>\n",
       "      <td>N0 (i-)</td>\n",
       "    </tr>\n",
       "    <tr>\n",
       "      <th>...</th>\n",
       "      <td>...</td>\n",
       "      <td>...</td>\n",
       "    </tr>\n",
       "    <tr>\n",
       "      <th>13767.58cfa83ce4b0c9d6adf72fc3</th>\n",
       "      <td>Stage III</td>\n",
       "      <td>N2</td>\n",
       "    </tr>\n",
       "    <tr>\n",
       "      <th>13767.58cfa832e4b0c9d6adf6d50e</th>\n",
       "      <td>Stage II</td>\n",
       "      <td>N1</td>\n",
       "    </tr>\n",
       "    <tr>\n",
       "      <th>13767.58cfa832e4b0c9d6adf6d64a</th>\n",
       "      <td>Stage II</td>\n",
       "      <td>N1</td>\n",
       "    </tr>\n",
       "    <tr>\n",
       "      <th>13767.58cfa830e4b0c9d6adf6c2fc</th>\n",
       "      <td>Stage III</td>\n",
       "      <td>N1</td>\n",
       "    </tr>\n",
       "    <tr>\n",
       "      <th>13767.58cfa83ce4b0c9d6adf72e10</th>\n",
       "      <td>Stage III</td>\n",
       "      <td>N1</td>\n",
       "    </tr>\n",
       "  </tbody>\n",
       "</table>\n",
       "<p>8643 rows × 2 columns</p>\n",
       "</div>"
      ],
      "text/plain": [
       "                               pathologic_stage_label pathologic_n_label\n",
       "sampleid                                                                \n",
       "13722.58cfa82de4b0c9d6adf6a4c2               Stage II                 N0\n",
       "13722.58cfa82de4b0c9d6adf6a4ce              Stage III                 N2\n",
       "13722.58cfa82de4b0c9d6adf6a46d               Stage II                 N1\n",
       "13722.58cfa82de4b0c9d6adf6a52c              Stage III                N2a\n",
       "13722.58cfa82de4b0c9d6adf6a59b               Stage II            N0 (i-)\n",
       "...                                               ...                ...\n",
       "13767.58cfa83ce4b0c9d6adf72fc3              Stage III                 N2\n",
       "13767.58cfa832e4b0c9d6adf6d50e               Stage II                 N1\n",
       "13767.58cfa832e4b0c9d6adf6d64a               Stage II                 N1\n",
       "13767.58cfa830e4b0c9d6adf6c2fc              Stage III                 N1\n",
       "13767.58cfa83ce4b0c9d6adf72e10              Stage III                 N1\n",
       "\n",
       "[8643 rows x 2 columns]"
      ]
     },
     "execution_count": 35,
     "metadata": {},
     "output_type": "execute_result"
    }
   ],
   "source": [
    "z = metadata[[cancer_stage, \"pathologic_n_label\"]].loc[metadata[cancer_stage] != \"Not available\"]\n",
    "z"
   ]
  },
  {
   "cell_type": "code",
   "execution_count": 38,
   "id": "6a402a0b",
   "metadata": {},
   "outputs": [
    {
     "data": {
      "text/plain": [
       "pathologic_stage_label  pathologic_n_label\n",
       "Stage I                 N0                    1844\n",
       "                        NX                     607\n",
       "                        N1                      66\n",
       "                        N1a                     66\n",
       "                        N0 (i-)                 60\n",
       "                        N1b                     51\n",
       "                        N0 (i+)                  5\n",
       "                        N1mi                     3\n",
       "                        N0 (mol+)                1\n",
       "Stage II                N0                    1468\n",
       "                        N1                     588\n",
       "                        NX                     215\n",
       "                        N1a                    114\n",
       "                        N0 (i-)                100\n",
       "                        N2                      37\n",
       "                        N1b                     26\n",
       "                        N1mi                    22\n",
       "                        N0 (i+)                 21\n",
       "                        N1c                      1\n",
       "Stage III               N0                     643\n",
       "                        N1                     435\n",
       "                        N2                     422\n",
       "                        NX                     186\n",
       "                        N1a                    131\n",
       "                        N3a                    126\n",
       "                        N3                     122\n",
       "                        N2a                     88\n",
       "                        N1b                     81\n",
       "                        N2b                     53\n",
       "                        N2c                     19\n",
       "                        N3b                     18\n",
       "                        N3c                      3\n",
       "                        N1mi                     2\n",
       "Stage IV                N1                     217\n",
       "                        N0                     209\n",
       "                        N2                     208\n",
       "                        NX                     107\n",
       "                        N3                      80\n",
       "                        N2b                     66\n",
       "                        N1b                     60\n",
       "                        N2c                     30\n",
       "                        N1a                      9\n",
       "                        N2a                      9\n",
       "                        N3a                      8\n",
       "                        N1c                      2\n",
       "dtype: int64"
      ]
     },
     "execution_count": 38,
     "metadata": {},
     "output_type": "execute_result"
    }
   ],
   "source": [
    "z.groupby(\"pathologic_stage_label\").value_counts()"
   ]
  },
  {
   "cell_type": "code",
   "execution_count": null,
   "id": "0b8eb8fa",
   "metadata": {},
   "outputs": [],
   "source": []
  }
 ],
 "metadata": {
  "kernelspec": {
   "display_name": "Python 3 (ipykernel)",
   "language": "python",
   "name": "python3"
  },
  "language_info": {
   "codemirror_mode": {
    "name": "ipython",
    "version": 3
   },
   "file_extension": ".py",
   "mimetype": "text/x-python",
   "name": "python",
   "nbconvert_exporter": "python",
   "pygments_lexer": "ipython3",
   "version": "3.8.8"
  },
  "vscode": {
   "interpreter": {
    "hash": "81794d4967e6c3204c66dcd87b604927b115b27c00565d3d43f05ba2f3a2cb0d"
   }
  }
 },
 "nbformat": 4,
 "nbformat_minor": 5
}
