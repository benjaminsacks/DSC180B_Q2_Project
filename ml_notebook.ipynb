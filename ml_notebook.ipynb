{
 "cells": [
  {
   "cell_type": "code",
   "execution_count": null,
   "id": "7f31ee31",
   "metadata": {},
   "outputs": [],
   "source": [
    "import numpy as np\n",
    "import pandas as pd\n",
    "import sklearn as sk\n",
    "import matplotlib.pyplot as plt\n",
    "from sklearn.model_selection import train_test_split\n",
    "from sklearn.metrics import mean_squared_error\n",
    "\n",
    "# for classifier\n",
    "from sklearn.model_selection import StratifiedKFold\n",
    "from sklearn.ensemble import GradientBoostingClassifier\n",
    "from sklearn.metrics import precision_recall_curve, average_precision_score, auc\n",
    "from sklearn.metrics import roc_auc_score"
   ]
  },
  {
   "cell_type": "code",
   "execution_count": null,
   "id": "5657204a",
   "metadata": {},
   "outputs": [],
   "source": [
    "import train_model as tm\n",
    "import visualize as vis\n",
    "import build_features as bf\n",
    "import make_dataset as md"
   ]
  },
  {
   "cell_type": "code",
   "execution_count": null,
   "id": "1bd3c12a",
   "metadata": {},
   "outputs": [],
   "source": [
    "# set random state\n",
    "rand_state = 1"
   ]
  },
  {
   "cell_type": "markdown",
   "id": "0f594c4c",
   "metadata": {},
   "source": [
    "# Load files into memory"
   ]
  },
  {
   "cell_type": "code",
   "execution_count": null,
   "id": "ebe6acf2",
   "metadata": {},
   "outputs": [],
   "source": [
    "counts_filename = 'data/count_data_species_raw_WIS_overlapping_fungi_bacteria_12773samples.tsv'\n",
    "metadata_filename = 'data/metadata_species_WIS_overlapping_fungi_bacteria_12773samples.tsv'"
   ]
  },
  {
   "cell_type": "code",
   "execution_count": null,
   "id": "93b087d2",
   "metadata": {},
   "outputs": [],
   "source": [
    "counts = md.read_fungi_data(counts_filename)\n",
    "metadata = md.read_fungi_data(metadata_filename)"
   ]
  },
  {
   "cell_type": "code",
   "execution_count": null,
   "id": "aaabd2e8",
   "metadata": {},
   "outputs": [],
   "source": [
    "# consider selecting metadata columns before combining\n",
    "combined = pd.merge(metadata, counts, on=\"sampleid\", how=\"inner\")"
   ]
  },
  {
   "cell_type": "code",
   "execution_count": null,
   "id": "36bd3dd8",
   "metadata": {},
   "outputs": [],
   "source": [
    "metadata.columns"
   ]
  },
  {
   "cell_type": "code",
   "execution_count": null,
   "id": "e36238c2",
   "metadata": {},
   "outputs": [],
   "source": [
    "metadata.head()"
   ]
  },
  {
   "cell_type": "code",
   "execution_count": null,
   "id": "a1e1841a",
   "metadata": {},
   "outputs": [],
   "source": [
    "counts.head()"
   ]
  },
  {
   "cell_type": "code",
   "execution_count": null,
   "id": "cbba99f4",
   "metadata": {},
   "outputs": [],
   "source": [
    "combined.head()"
   ]
  },
  {
   "cell_type": "code",
   "execution_count": null,
   "id": "a79217e8",
   "metadata": {},
   "outputs": [],
   "source": [
    "metadata.shape"
   ]
  },
  {
   "cell_type": "code",
   "execution_count": null,
   "id": "4f85ea7d",
   "metadata": {},
   "outputs": [],
   "source": [
    "counts.shape"
   ]
  },
  {
   "cell_type": "code",
   "execution_count": null,
   "id": "a0a89320",
   "metadata": {},
   "outputs": [],
   "source": [
    "combined.shape"
   ]
  },
  {
   "cell_type": "code",
   "execution_count": null,
   "id": "5090b9b4",
   "metadata": {},
   "outputs": [],
   "source": [
    "combined[\"days_to_death\"].value_counts()"
   ]
  },
  {
   "cell_type": "code",
   "execution_count": null,
   "id": "0b18bbf5",
   "metadata": {},
   "outputs": [],
   "source": [
    "combined[\"days_to_death\"].mean()"
   ]
  },
  {
   "cell_type": "code",
   "execution_count": null,
   "id": "f3c65a5a",
   "metadata": {},
   "outputs": [],
   "source": [
    "# note 76% of samples dont have DTD\n",
    "combined[\"days_to_death\"].isna().mean()"
   ]
  },
  {
   "cell_type": "code",
   "execution_count": null,
   "id": "544fcfa9",
   "metadata": {},
   "outputs": [],
   "source": [
    "# 3036 data points to work with\n",
    "combined[\"days_to_death\"].notna().sum()"
   ]
  },
  {
   "cell_type": "code",
   "execution_count": null,
   "id": "853ef82f",
   "metadata": {},
   "outputs": [],
   "source": [
    "# drop nans + values < 10k\n",
    "plt.boxplot(combined[combined['days_to_death'] < 10_000]['days_to_death'].dropna(), vert=False)"
   ]
  },
  {
   "cell_type": "markdown",
   "id": "e6aa0f8d",
   "metadata": {},
   "source": [
    "## Searching for metadata features"
   ]
  },
  {
   "cell_type": "code",
   "execution_count": null,
   "id": "4399b3b3",
   "metadata": {},
   "outputs": [],
   "source": [
    "len(metadata.columns)"
   ]
  },
  {
   "cell_type": "code",
   "execution_count": null,
   "id": "bce175d0",
   "metadata": {},
   "outputs": [],
   "source": [
    "metadata[metadata.columns[1:10]].head()\n",
    "# important columns\n",
    "# [experimental_strategy]\n",
    "# what the hell are these\n",
    "# [analyte_amount, analyte_A260A280Ratio, aliquot_concentration]"
   ]
  },
  {
   "cell_type": "code",
   "execution_count": null,
   "id": "93a43b1c",
   "metadata": {},
   "outputs": [],
   "source": [
    "metadata[metadata.columns[11:20]].head()\n",
    "# important columns\n",
    "# [gender, race, ethnicity, disease_type, sample_type]\n",
    "# what the hell are these\n",
    "# [data_subtype, cgc_platform]"
   ]
  },
  {
   "cell_type": "code",
   "execution_count": null,
   "id": "3b0af1e3",
   "metadata": {},
   "outputs": [],
   "source": [
    "metadata[metadata.columns[21:30]].head()\n",
    "# important columns\n",
    "# [primary_site, days_to_death]\n",
    "# what the hell are these\n",
    "# [reference_genome, investigation]"
   ]
  },
  {
   "cell_type": "code",
   "execution_count": null,
   "id": "4e3f8089",
   "metadata": {},
   "outputs": [],
   "source": [
    "metadata[metadata.columns[31:41]].head()\n",
    "# important columns\n",
    "# [data_submitting_center_label, tissue_source_site_label, country_of_sample_procurement, pathologic_stage_label]\n",
    "# what the hell are these\n",
    "# [portion_is_ffpe, pathologic_t_label, pathologic_n_label, histological_diagnosis_label, PlateCenter, PlateCenterFlag]"
   ]
  },
  {
   "cell_type": "markdown",
   "id": "5047d4b7",
   "metadata": {},
   "source": [
    "## Metadata Regression"
   ]
  },
  {
   "cell_type": "code",
   "execution_count": null,
   "id": "7aa94e85",
   "metadata": {},
   "outputs": [],
   "source": [
    "important_cols = ['experimental_strategy', 'gender', 'race', 'ethnicity', \n",
    "'disease_type', 'sample_type','primary_site', 'days_to_death','data_submitting_center_label', \n",
    "'tissue_source_site_label', 'country_of_sample_procurement', 'pathologic_stage_label']"
   ]
  },
  {
   "cell_type": "code",
   "execution_count": null,
   "id": "675ecf13",
   "metadata": {},
   "outputs": [],
   "source": [
    "metadata['pathologic_stage_label'].value_counts()\n",
    "# experimental_strategy          - ohe\n",
    "# gender                         - ohe\n",
    "# race                           - ohe\n",
    "# ethnicity                      - ohe\n",
    "# disease_type                   - ohe\n",
    "# sample_type                    - ohe (possibly assign numerical? are they ordinal?)\n",
    "# primary_site                   - ohe\n",
    "# data_submitting_center_label   - ohe\n",
    "# tissue_source_site_label       - avoid ohe (179 unique vals)\n",
    "# country_of_sample_procurement  - ohe\n",
    "# pathologic_stage_label         - ohe (reduce stages)\n",
    "\n",
    "\n",
    "# days_to_death             - numerical"
   ]
  },
  {
   "cell_type": "markdown",
   "id": "83a381f3",
   "metadata": {},
   "source": [
    "## Regression Model"
   ]
  },
  {
   "cell_type": "code",
   "execution_count": null,
   "id": "82345bd4",
   "metadata": {},
   "outputs": [],
   "source": [
    "reg_data = combined[combined[\"days_to_death\"].notna()]"
   ]
  },
  {
   "cell_type": "code",
   "execution_count": null,
   "id": "f5dd75ed",
   "metadata": {},
   "outputs": [],
   "source": [
    "reg_data.shape"
   ]
  },
  {
   "cell_type": "code",
   "execution_count": null,
   "id": "7b935119",
   "metadata": {},
   "outputs": [],
   "source": [
    "# separate X and Y and generate \n",
    "\n",
    "test_prop = 0.1\n",
    "reg_X = reg_data.drop(columns=metadata.columns)\n",
    "reg_Y = reg_data[\"days_to_death\"]\n",
    "reg_Xtrain, reg_Xtest, reg_Ytrain, reg_Ytest = train_test_split(reg_X, reg_Y, test_size=test_prop, random_state=rand_state)"
   ]
  },
  {
   "cell_type": "code",
   "execution_count": null,
   "id": "8cc11b32",
   "metadata": {},
   "outputs": [],
   "source": [
    "reg_model = sk.linear_model.LinearRegression()\n",
    "reg_model.fit(reg_Xtrain, reg_Ytrain)\n",
    "preds = reg_model.predict(reg_Xtest)\n",
    "preds = [x if x > 0 else 0 for x in preds] # Replace negative predictions\n",
    "scores = mean_squared_error(reg_Ytest, preds)\n",
    "scores"
   ]
  },
  {
   "cell_type": "code",
   "execution_count": null,
   "id": "507d0c2f",
   "metadata": {},
   "outputs": [],
   "source": [
    "(reg_Ytest - preds).head()"
   ]
  },
  {
   "cell_type": "markdown",
   "id": "102e9697",
   "metadata": {},
   "source": [
    "## Classification Model"
   ]
  },
  {
   "cell_type": "code",
   "execution_count": null,
   "id": "de315b37",
   "metadata": {},
   "outputs": [],
   "source": [
    "# taken from train_model and modified for this task\n",
    "\n",
    "def model_predict(dataset, cancer_stages):\n",
    "    '''Take in as input the cleaned datasets of the features(X) and the one-hot encoded cancer stages/targets(Y)\n",
    "       then perform 10-fold validation split and use them to train the model.\n",
    "       \n",
    "       Output: Auroc and Aupr scores of the model\n",
    "       \n",
    "    '''\n",
    "    \n",
    "    # define cross validation hyperparams\n",
    "    n_splits = 10\n",
    "    skf_random = 0 #DO NOT TOUCH\n",
    "    shuffle=True\n",
    "    # define model hyperparams, can automate tuning later\n",
    "    loss = 'exponential'\n",
    "    learning_rate = 0.1\n",
    "    n_estimators = 150\n",
    "    max_depth = 3\n",
    "    clf_random = 0 #DO NOT TOUCH\n",
    "   \n",
    "    skf = StratifiedKFold(n_splits=n_splits, random_state=skf_random, shuffle=shuffle)\n",
    "\n",
    "    clf = GradientBoostingClassifier(loss=loss, learning_rate=learning_rate, n_estimators=n_estimators, max_depth=max_depth, random_state=clf_random)\n",
    "    \n",
    "    for i, stage in enumerate(cancer_stages.columns, start=1):\n",
    "        X = dataset\n",
    "        y = cancer_stages[stage]\n",
    "        \n",
    "        auroc_plt_data = np.array([])\n",
    "        aupr_plt_data = np.array([])\n",
    "        \n",
    "        for train_index, val_index in skf.split(X, y):\n",
    "            train_X, train_y = X.iloc[train_index], y.iloc[train_index]\n",
    "            val_X, val_y = X.iloc[val_index], y.iloc[val_index]\n",
    "\n",
    "            clf.fit(train_X, train_y) #re-fit model\n",
    "            \n",
    "            preds = clf.predict_proba(val_X)[:,1] #predict, probability of positive class predict\n",
    "\n",
    "            auroc = roc_auc_score(val_y, preds) #TODO: implement separate score function to return multiple scores\n",
    "            aupr = average_precision_score(val_y, preds)\n",
    "            \n",
    "            auroc_plt_data = np.append(auroc_plt_data, auroc)\n",
    "            aupr_plt_data = np.append(aupr_plt_data, aupr)\n",
    "    \n",
    "    return auroc_plt_data, aupr_plt_data"
   ]
  },
  {
   "cell_type": "code",
   "execution_count": null,
   "id": "a1b28184",
   "metadata": {},
   "outputs": [],
   "source": [
    "# Week 3 todo\n",
    "# make wrapper function to process dataset into format to input into model_predict()\n",
    "    # OHE and combine cancer substages\n",
    "    # create feature matrix (basically just removing y var)\n",
    "    # plot auroc and aupr\n",
    "# cross val for regression?"
   ]
  }
 ],
 "metadata": {
  "kernelspec": {
   "display_name": "Python 3 (ipykernel)",
   "language": "python",
   "name": "python3"
  },
  "language_info": {
   "codemirror_mode": {
    "name": "ipython",
    "version": 3
   },
   "file_extension": ".py",
   "mimetype": "text/x-python",
   "name": "python",
   "nbconvert_exporter": "python",
   "pygments_lexer": "ipython3",
   "version": "3.8.8"
  },
  "vscode": {
   "interpreter": {
    "hash": "81794d4967e6c3204c66dcd87b604927b115b27c00565d3d43f05ba2f3a2cb0d"
   }
  }
 },
 "nbformat": 4,
 "nbformat_minor": 5
}
