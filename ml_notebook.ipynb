{
 "cells": [
  {
   "cell_type": "code",
   "execution_count": null,
   "id": "7f31ee31",
   "metadata": {},
   "outputs": [],
   "source": [
    "import numpy as np\n",
    "import pandas as pd\n",
    "import matplotlib.pyplot as plt\n",
    "\n",
    "from sklearn.compose import ColumnTransformer\n",
    "from sklearn.compose import make_column_transformer\n",
    "from sklearn.preprocessing import OneHotEncoder\n",
    "from sklearn.preprocessing import OrdinalEncoder\n",
    "from sklearn.preprocessing import StandardScaler\n",
    "\n",
    "from sklearn.model_selection import train_test_split\n",
    "from sklearn.linear_model import LinearRegression\n",
    "from sklearn.metrics import mean_squared_error"
   ]
  },
  {
   "cell_type": "code",
   "execution_count": null,
   "id": "5657204a",
   "metadata": {},
   "outputs": [],
   "source": [
    "import train_model as tm\n",
    "import visualize as vis\n",
    "import build_features as bf\n",
    "import make_dataset as md\n",
    "import data_cleaning as dc\n",
    "import preprocessing as pp"
   ]
  },
  {
   "cell_type": "code",
   "execution_count": null,
   "id": "1bd3c12a",
   "metadata": {},
   "outputs": [],
   "source": [
    "# set random state\n",
    "rand_state = 1"
   ]
  },
  {
   "cell_type": "markdown",
   "id": "0f594c4c",
   "metadata": {},
   "source": [
    "# Load files into memory"
   ]
  },
  {
   "cell_type": "code",
   "execution_count": null,
   "id": "ebe6acf2",
   "metadata": {},
   "outputs": [],
   "source": [
    "counts_filename = 'data/count_data_species_raw_WIS_overlapping_fungi_bacteria_12773samples.tsv'\n",
    "metadata_filename = 'data/metadata_species_WIS_overlapping_fungi_bacteria_12773samples.tsv'"
   ]
  },
  {
   "cell_type": "code",
   "execution_count": null,
   "id": "93b087d2",
   "metadata": {},
   "outputs": [],
   "source": [
    "counts = md.read_fungi_data(counts_filename)\n",
    "metadata = md.read_fungi_data(metadata_filename)\n",
    "\n",
    "metadata = metadata.replace('Not available', np.nan)\n",
    "\n",
    "#TODO Merge this later?\n",
    "combined = pd.merge(metadata, counts, on=\"sampleid\", how=\"inner\")\n",
    "\n",
    "print('Metadata Shape:\\t' + str(metadata.shape))\n",
    "print('Counts Shape:\\t' + str(counts.shape))\n",
    "print('Combined Shape:\\t' + str(combined.shape))"
   ]
  },
  {
   "cell_type": "code",
   "execution_count": null,
   "id": "f3c65a5a",
   "metadata": {},
   "outputs": [],
   "source": [
    "# # note 76% of samples dont have DTD\n",
    "# print(\"Days to Death - NA: \" + str(round(combined[\"days_to_death\"].isna().mean(), 3) * 100) + '%')\n",
    "\n",
    "# # 3036 data points to work with\n",
    "# print(\"Rows remaining: \" + str(combined[\"days_to_death\"].notna().sum()))\n",
    "\n",
    "# plt.boxplot(combined['days_to_death'], vert=False)\n",
    "# plt.show()"
   ]
  },
  {
   "cell_type": "code",
   "execution_count": null,
   "id": "544fcfa9",
   "metadata": {},
   "outputs": [],
   "source": [
    "combined = pd.merge(metadata, counts, on=\"sampleid\", how=\"inner\")\n",
    "\n",
    "combined = dc.filter_metadata(combined)\n",
    "\n",
    "combined['pathologic_t_label'] = dc.reduce_stages(combined['pathologic_t_label'])\n",
    "combined['pathologic_n_label'] = dc.reduce_stages(combined['pathologic_n_label'])\n",
    "combined['pathologic_stage_label'] = dc.reduce_stages(combined['pathologic_stage_label'])\n",
    "\n",
    "combined.shape"
   ]
  },
  {
   "cell_type": "markdown",
   "id": "5047d4b7",
   "metadata": {},
   "source": [
    "## Metadata Regression"
   ]
  },
  {
   "cell_type": "code",
   "execution_count": null,
   "id": "a422d18e",
   "metadata": {},
   "outputs": [],
   "source": [
    "# TODO Create OrdinalEncoder for ordinal features in preprocessing.py"
   ]
  },
  {
   "cell_type": "code",
   "execution_count": null,
   "id": "b44cf23d",
   "metadata": {},
   "outputs": [],
   "source": [
    "pp.preprocess_metadata(metadata).head()"
   ]
  },
  {
   "cell_type": "markdown",
   "id": "83a381f3",
   "metadata": {},
   "source": [
    "## Regression Model"
   ]
  },
  {
   "cell_type": "code",
   "execution_count": null,
   "id": "82345bd4",
   "metadata": {},
   "outputs": [],
   "source": [
    "reg_data = combined[combined[\"days_to_death\"].notna()]"
   ]
  },
  {
   "cell_type": "code",
   "execution_count": null,
   "id": "f5dd75ed",
   "metadata": {},
   "outputs": [],
   "source": [
    "reg_data.shape"
   ]
  },
  {
   "cell_type": "code",
   "execution_count": null,
   "id": "7b935119",
   "metadata": {},
   "outputs": [],
   "source": [
    "# separate X and Y and generate \n",
    "\n",
    "test_prop = 0.1\n",
    "reg_X = reg_data.drop(columns=metadata.columns)\n",
    "reg_Y = reg_data[\"days_to_death\"]\n",
    "reg_Xtrain, reg_Xtest, reg_Ytrain, reg_Ytest = train_test_split(reg_X, reg_Y, test_size=test_prop, random_state=rand_state)"
   ]
  },
  {
   "cell_type": "code",
   "execution_count": null,
   "id": "8cc11b32",
   "metadata": {},
   "outputs": [],
   "source": [
    "reg_model = LinearRegression()\n",
    "reg_model.fit(reg_Xtrain, reg_Ytrain)\n",
    "preds = reg_model.predict(reg_Xtest)\n",
    "preds = [x if x > 0 else 0 for x in preds] # Replace negative predictions\n",
    "scores = mean_squared_error(reg_Ytest, preds)\n",
    "scores"
   ]
  },
  {
   "cell_type": "code",
   "execution_count": null,
   "id": "507d0c2f",
   "metadata": {},
   "outputs": [],
   "source": [
    "(reg_Ytest - preds).head()"
   ]
  }
 ],
 "metadata": {
  "kernelspec": {
   "display_name": "Python 3.9.0 64-bit",
   "language": "python",
   "name": "python3"
  },
  "language_info": {
   "codemirror_mode": {
    "name": "ipython",
    "version": 3
   },
   "file_extension": ".py",
   "mimetype": "text/x-python",
   "name": "python",
   "nbconvert_exporter": "python",
   "pygments_lexer": "ipython3",
   "version": "3.9.0"
  },
  "vscode": {
   "interpreter": {
    "hash": "81794d4967e6c3204c66dcd87b604927b115b27c00565d3d43f05ba2f3a2cb0d"
   }
  }
 },
 "nbformat": 4,
 "nbformat_minor": 5
}
