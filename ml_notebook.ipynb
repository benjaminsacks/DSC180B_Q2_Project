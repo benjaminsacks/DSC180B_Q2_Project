{
 "cells": [
  {
   "cell_type": "code",
   "execution_count": null,
   "id": "7f31ee31",
   "metadata": {},
   "outputs": [],
   "source": [
    "import numpy as np\n",
    "import pandas as pd\n",
    "import matplotlib.pyplot as plt\n",
    "\n",
    "from sklearn.compose import ColumnTransformer\n",
    "from sklearn.compose import make_column_transformer\n",
    "from sklearn.preprocessing import OneHotEncoder\n",
    "from sklearn.preprocessing import OrdinalEncoder\n",
    "from sklearn.preprocessing import StandardScaler\n",
    "\n",
    "from sklearn.model_selection import train_test_split\n",
    "from sklearn.linear_model import LinearRegression\n",
    "from sklearn.metrics import mean_squared_error"
   ]
  },
  {
   "cell_type": "code",
   "execution_count": null,
   "id": "5657204a",
   "metadata": {},
   "outputs": [],
   "source": [
    "import train_model as tm\n",
    "import visualize as vis\n",
    "import build_features as bf\n",
    "import make_dataset as md"
   ]
  },
  {
   "cell_type": "code",
   "execution_count": null,
   "id": "1bd3c12a",
   "metadata": {},
   "outputs": [],
   "source": [
    "# set random state\n",
    "rand_state = 1"
   ]
  },
  {
   "cell_type": "markdown",
   "id": "0f594c4c",
   "metadata": {},
   "source": [
    "# Load files into memory"
   ]
  },
  {
   "cell_type": "code",
   "execution_count": null,
   "id": "ebe6acf2",
   "metadata": {},
   "outputs": [],
   "source": [
    "counts_filename = 'data/count_data_species_raw_WIS_overlapping_fungi_bacteria_12773samples.tsv'\n",
    "metadata_filename = 'data/metadata_species_WIS_overlapping_fungi_bacteria_12773samples.tsv'"
   ]
  },
  {
   "cell_type": "code",
   "execution_count": null,
   "id": "93b087d2",
   "metadata": {},
   "outputs": [],
   "source": [
    "counts = md.read_fungi_data(counts_filename)\n",
    "metadata = md.read_fungi_data(metadata_filename)"
   ]
  },
  {
   "cell_type": "code",
   "execution_count": null,
   "id": "d4dce646",
   "metadata": {},
   "outputs": [],
   "source": [
    "metadata = metadata.replace('Not available', np.nan)"
   ]
  },
  {
   "cell_type": "code",
   "execution_count": null,
   "id": "aaabd2e8",
   "metadata": {},
   "outputs": [],
   "source": [
    "# consider selecting metadata columns before combining\n",
    "combined = pd.merge(metadata, counts, on=\"sampleid\", how=\"inner\")"
   ]
  },
  {
   "cell_type": "code",
   "execution_count": null,
   "id": "a79217e8",
   "metadata": {},
   "outputs": [],
   "source": [
    "metadata.shape"
   ]
  },
  {
   "cell_type": "code",
   "execution_count": null,
   "id": "4f85ea7d",
   "metadata": {},
   "outputs": [],
   "source": [
    "counts.shape"
   ]
  },
  {
   "cell_type": "code",
   "execution_count": null,
   "id": "a0a89320",
   "metadata": {},
   "outputs": [],
   "source": [
    "combined.shape"
   ]
  },
  {
   "cell_type": "code",
   "execution_count": null,
   "id": "5090b9b4",
   "metadata": {},
   "outputs": [],
   "source": [
    "combined[\"days_to_death\"].value_counts()"
   ]
  },
  {
   "cell_type": "code",
   "execution_count": null,
   "id": "0b18bbf5",
   "metadata": {},
   "outputs": [],
   "source": [
    "combined[\"days_to_death\"].mean()"
   ]
  },
  {
   "cell_type": "code",
   "execution_count": null,
   "id": "f3c65a5a",
   "metadata": {},
   "outputs": [],
   "source": [
    "# note 76% of samples dont have DTD\n",
    "combined[\"days_to_death\"].isna().mean()"
   ]
  },
  {
   "cell_type": "code",
   "execution_count": null,
   "id": "544fcfa9",
   "metadata": {},
   "outputs": [],
   "source": [
    "# 3036 data points to work with\n",
    "combined[\"days_to_death\"].notna().sum()"
   ]
  },
  {
   "cell_type": "code",
   "execution_count": null,
   "id": "853ef82f",
   "metadata": {},
   "outputs": [],
   "source": [
    "# drop nans + values < 10k\n",
    "plt.boxplot(combined[combined['days_to_death'] < 10_000]['days_to_death'].dropna(), vert=False)"
   ]
  },
  {
   "cell_type": "markdown",
   "id": "e6aa0f8d",
   "metadata": {},
   "source": [
    "## Searching for metadata features"
   ]
  },
  {
   "cell_type": "code",
   "execution_count": null,
   "id": "368f2bc1",
   "metadata": {},
   "outputs": [],
   "source": [
    "plt.hist(metadata['analyte_amount'], bins=100)\n",
    "plt.show()"
   ]
  },
  {
   "cell_type": "code",
   "execution_count": null,
   "id": "675ecf13",
   "metadata": {},
   "outputs": [],
   "source": [
    "# experimental_strategy          - ohe\n",
    "# analyte_amount                 - numerical (normalize?)\n",
    "# analyte_A260A280Ratio          - numerical (contains zero?)\n",
    "# aliquot_concentration          - numerical (omit 2.10 value)\n",
    "# gender                         - ohe (55 nan)\n",
    "# race                           - ohe (1462 nan, keep)\n",
    "# ethnicity                      - ohe (3096 nan)\n",
    "# disease_type                   - ohe (32 types)\n",
    "# sample_type                    - ordinal [['Primary Tumor', 'Recurrent Tumor', 'Additional - New Primary', 'Metastatic', 'Blood Derived Normal', 'Solid Tissue Normal']]\n",
    "# primary_site                   - ohe\n",
    "# age_at_diagnosis               - numerical\n",
    "# reference_genome               - ohe\n",
    "# data_submitting_center_label   - ohe\n",
    "# investigation                  - ohe\n",
    "# days_to_death                  - numerical\n",
    "# tissue_source_site_label       - ordinal (avoid ohe, 179 unique vals)\n",
    "# country_of_sample_procurement  - ohe\n",
    "# pathologic_t_label             - ohe (reduce stages?)\n",
    "# pathologic_n_label             - ohe (reduce stages?)\n",
    "# histological_diagnosis_label   - ordinal (avoid ohe, 71 unique vals)\n",
    "# pathologic_stage_label         - ohe (reduce stages)\n",
    "# PlateCenter                    - numerical\n",
    "# PlateCenterFlag                - ohe\n",
    "\n",
    "important_cols = ['experimental_strategy', 'analyte_amount', 'analyte_A260A280Ratio', 'aliquot_concentration', 'gender', 'race', 'ethnicity', \n",
    "'disease_type', 'sample_type','primary_site', 'age_at_diagnosis', 'reference_genome', 'data_submitting_center_label', \n",
    "'investigation', 'tissue_source_site_label', 'country_of_sample_procurement', 'pathologic_t_label', 'pathologic_n_label', \n",
    "'histological_diagnosis_label', 'pathologic_stage_label', 'PlateCenter', 'PlateCenterFlag', 'days_to_death']"
   ]
  },
  {
   "cell_type": "markdown",
   "id": "5047d4b7",
   "metadata": {},
   "source": [
    "## Metadata Regression"
   ]
  },
  {
   "cell_type": "code",
   "execution_count": null,
   "id": "e7dc97d7",
   "metadata": {},
   "outputs": [],
   "source": [
    "ohe_feats = ['experimental_strategy', 'gender', 'race', 'ethnicity', 'disease_type', 'primary_site',\n",
    "             'reference_genome', 'data_submitting_center_label', 'investigation', 'country_of_sample_procurement', \n",
    "             'pathologic_t_label', 'pathologic_n_label', 'pathologic_stage_label', 'PlateCenterFlag']\n",
    "scaler_feats = ['analyte_amount', 'analyte_A260A280Ratio', 'aliquot_concentration']\n",
    "passthrough_feats = ['age_at_diagnosis', 'PlateCenter']\n",
    "ordinal_feats = ['sample_type', 'tissue_source_site_label', 'histological_diagnosis_label']\n",
    "drop_feats = ['sample_name', 'run_prefix', 'cgc_base_name',\n",
    "              'filename', 'cgc_id', 'cgc_filename', 'vital_status',\n",
    "              'data_subtype', 'tcga_sample_id', 'cgc_case_uuid', 'cgc_platform',\n",
    "              'gdc_file_uuid', 'cgc_sample_uuid',\n",
    "              'cgc_aliquot_uuid', 'tcga_aliquot_id',\n",
    "              'tcga_case_id', 'days_to_death', 'knightlabID', 'portion_is_ffpe']"
   ]
  },
  {
   "cell_type": "code",
   "execution_count": null,
   "id": "1451729b",
   "metadata": {},
   "outputs": [],
   "source": [
    "ct = make_column_transformer(    \n",
    "    (StandardScaler(), scaler_feats), \n",
    "    (OneHotEncoder(), ohe_feats),\n",
    "    (OrdinalEncoder, ordinal_feats),\n",
    "    (\"passthrough\", passthrough_feats),\n",
    "    (\"drop\", drop_feats),\n",
    ")"
   ]
  },
  {
   "cell_type": "code",
   "execution_count": null,
   "id": "34297694",
   "metadata": {},
   "outputs": [],
   "source": [
    "ct.fit(metadata)"
   ]
  },
  {
   "cell_type": "markdown",
   "id": "83a381f3",
   "metadata": {},
   "source": [
    "## Regression Model"
   ]
  },
  {
   "cell_type": "code",
   "execution_count": null,
   "id": "82345bd4",
   "metadata": {},
   "outputs": [],
   "source": [
    "reg_data = combined[combined[\"days_to_death\"].notna()]"
   ]
  },
  {
   "cell_type": "code",
   "execution_count": null,
   "id": "f5dd75ed",
   "metadata": {},
   "outputs": [],
   "source": [
    "reg_data.shape"
   ]
  },
  {
   "cell_type": "code",
   "execution_count": null,
   "id": "7b935119",
   "metadata": {},
   "outputs": [],
   "source": [
    "# separate X and Y and generate \n",
    "\n",
    "test_prop = 0.1\n",
    "reg_X = reg_data.drop(columns=metadata.columns)\n",
    "reg_Y = reg_data[\"days_to_death\"]\n",
    "reg_Xtrain, reg_Xtest, reg_Ytrain, reg_Ytest = train_test_split(reg_X, reg_Y, test_size=test_prop, random_state=rand_state)"
   ]
  },
  {
   "cell_type": "code",
   "execution_count": null,
   "id": "8cc11b32",
   "metadata": {},
   "outputs": [],
   "source": [
    "reg_model = LinearRegression()\n",
    "reg_model.fit(reg_Xtrain, reg_Ytrain)\n",
    "preds = reg_model.predict(reg_Xtest)\n",
    "preds = [x if x > 0 else 0 for x in preds] # Replace negative predictions\n",
    "scores = mean_squared_error(reg_Ytest, preds)\n",
    "scores"
   ]
  },
  {
   "cell_type": "code",
   "execution_count": null,
   "id": "507d0c2f",
   "metadata": {},
   "outputs": [],
   "source": [
    "(reg_Ytest - preds).head()"
   ]
  }
 ],
 "metadata": {
  "kernelspec": {
   "display_name": "Python 3.9.0 64-bit",
   "language": "python",
   "name": "python3"
  },
  "language_info": {
   "codemirror_mode": {
    "name": "ipython",
    "version": 3
   },
   "file_extension": ".py",
   "mimetype": "text/x-python",
   "name": "python",
   "nbconvert_exporter": "python",
   "pygments_lexer": "ipython3",
   "version": "3.9.0"
  },
  "vscode": {
   "interpreter": {
    "hash": "81794d4967e6c3204c66dcd87b604927b115b27c00565d3d43f05ba2f3a2cb0d"
   }
  }
 },
 "nbformat": 4,
 "nbformat_minor": 5
}
